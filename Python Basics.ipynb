{
 "cells": [
  {
   "cell_type": "code",
   "execution_count": 6,
   "metadata": {
    "collapsed": false
   },
   "outputs": [
    {
     "name": "stdout",
     "output_type": "stream",
     "text": [
      "빅데이터\n"
     ]
    }
   ],
   "source": [
    "korean = u'빅데이터를 위한 파이썬'\n",
    "print(korean[:4])"
   ]
  },
  {
   "cell_type": "code",
   "execution_count": null,
   "metadata": {
    "collapsed": true
   },
   "outputs": [],
   "source": []
  },
  {
   "cell_type": "code",
   "execution_count": 7,
   "metadata": {
    "collapsed": false
   },
   "outputs": [
    {
     "name": "stdout",
     "output_type": "stream",
     "text": [
      "빅데이터\n"
     ]
    }
   ],
   "source": [
    "korean2 = '빅데이터를 위한 파이썬'\n",
    "print(korean2[:4])"
   ]
  },
  {
   "cell_type": "code",
   "execution_count": 10,
   "metadata": {
    "collapsed": false
   },
   "outputs": [
    {
     "data": {
      "text/plain": [
       "'파이썬'"
      ]
     },
     "execution_count": 10,
     "metadata": {},
     "output_type": "execute_result"
    }
   ],
   "source": [
    "text = u'빅데이터를 위한 파이썬'\n",
    "lang = text[-3:]\n",
    "lang"
   ]
  },
  {
   "cell_type": "code",
   "execution_count": 2,
   "metadata": {
    "collapsed": false
   },
   "outputs": [
    {
     "data": {
      "text/plain": [
       "list"
      ]
     },
     "execution_count": 2,
     "metadata": {},
     "output_type": "execute_result"
    }
   ],
   "source": [
    "numbers = [1,2,3,4,5]\n",
    "type(numbers)"
   ]
  },
  {
   "cell_type": "code",
   "execution_count": 3,
   "metadata": {
    "collapsed": false
   },
   "outputs": [
    {
     "name": "stdout",
     "output_type": "stream",
     "text": [
      "[1, 2, 3, 4]\n",
      "5\n"
     ]
    }
   ],
   "source": [
    "lastItem = numbers.pop()\n",
    "print(numbers)\n",
    "print(lastItem)"
   ]
  },
  {
   "cell_type": "code",
   "execution_count": 4,
   "metadata": {
    "collapsed": false
   },
   "outputs": [
    {
     "data": {
      "text/plain": [
       "[1, 4, 9, 16, 25]"
      ]
     },
     "execution_count": 4,
     "metadata": {},
     "output_type": "execute_result"
    }
   ],
   "source": [
    "aa = [n **2 for n in [1,2,3,4,5] ]\n",
    "aa"
   ]
  },
  {
   "cell_type": "code",
   "execution_count": 10,
   "metadata": {
    "collapsed": false
   },
   "outputs": [
    {
     "data": {
      "text/plain": [
       "[7, 14, 21]"
      ]
     },
     "execution_count": 10,
     "metadata": {},
     "output_type": "execute_result"
    }
   ],
   "source": [
    "products = [a*b for a in [1,2,3] for b in [4,5,6,7] if b > 6] \n",
    "products"
   ]
  },
  {
   "cell_type": "code",
   "execution_count": 17,
   "metadata": {
    "collapsed": false
   },
   "outputs": [
    {
     "data": {
      "text/plain": [
       "[['Diamond', '2'],\n",
       " ['Diamond', '3'],\n",
       " ['Diamond', '4'],\n",
       " ['Diamond', '5'],\n",
       " ['Diamond', '6'],\n",
       " ['Diamond', '7'],\n",
       " ['Diamond', '8'],\n",
       " ['Diamond', '9'],\n",
       " ['Diamond', '10'],\n",
       " ['Diamond', 'J'],\n",
       " ['Diamond', 'Q'],\n",
       " ['Diamond', 'K'],\n",
       " ['Diamond', 'A'],\n",
       " ['Heart', '2'],\n",
       " ['Heart', '3'],\n",
       " ['Heart', '4'],\n",
       " ['Heart', '5'],\n",
       " ['Heart', '6'],\n",
       " ['Heart', '7'],\n",
       " ['Heart', '8'],\n",
       " ['Heart', '9'],\n",
       " ['Heart', '10'],\n",
       " ['Heart', 'J'],\n",
       " ['Heart', 'Q'],\n",
       " ['Heart', 'K'],\n",
       " ['Heart', 'A'],\n",
       " ['Spade', '2'],\n",
       " ['Spade', '3'],\n",
       " ['Spade', '4'],\n",
       " ['Spade', '5'],\n",
       " ['Spade', '6'],\n",
       " ['Spade', '7'],\n",
       " ['Spade', '8'],\n",
       " ['Spade', '9'],\n",
       " ['Spade', '10'],\n",
       " ['Spade', 'J'],\n",
       " ['Spade', 'Q'],\n",
       " ['Spade', 'K'],\n",
       " ['Spade', 'A'],\n",
       " ['Clover', '2'],\n",
       " ['Clover', '3'],\n",
       " ['Clover', '4'],\n",
       " ['Clover', '5'],\n",
       " ['Clover', '6'],\n",
       " ['Clover', '7'],\n",
       " ['Clover', '8'],\n",
       " ['Clover', '9'],\n",
       " ['Clover', '10'],\n",
       " ['Clover', 'J'],\n",
       " ['Clover', 'Q'],\n",
       " ['Clover', 'K'],\n",
       " ['Clover', 'A']]"
      ]
     },
     "execution_count": 17,
     "metadata": {},
     "output_type": "execute_result"
    }
   ],
   "source": [
    "rank = [str(n+2) for n in range(9)]\n",
    "rank =  rank + ['J', 'Q', 'K', 'A']\n",
    "suit = ['Diamond', 'Heart', 'Spade', 'Clover']\n",
    "deck = [[s, r] for s in suit for r in rank]\n",
    "deck\n"
   ]
  },
  {
   "cell_type": "code",
   "execution_count": 18,
   "metadata": {
    "collapsed": false
   },
   "outputs": [
    {
     "name": "stdout",
     "output_type": "stream",
     "text": [
      "102\n",
      "32\n"
     ]
    }
   ],
   "source": [
    "import random\n",
    "sum = 0\n",
    "cnt = 0\n",
    "while(sum < 100) :\n",
    "    cnt += 1\n",
    "    sum += random.randint(0, 1) * 6\n",
    "print(sum)\n",
    "print(cnt)"
   ]
  },
  {
   "cell_type": "code",
   "execution_count": 23,
   "metadata": {
    "collapsed": false
   },
   "outputs": [
    {
     "name": "stdout",
     "output_type": "stream",
     "text": [
      "1\n",
      "2\n",
      "짝!\n",
      "4\n",
      "5\n",
      "짝!\n",
      "7\n",
      "8\n",
      "짝!\n",
      "10\n",
      "11\n",
      "12\n",
      "짝!\n",
      "14\n",
      "15\n",
      "짝!\n",
      "17\n",
      "18\n",
      "짝!\n",
      "20\n",
      "21\n",
      "22\n",
      "짝!\n",
      "24\n",
      "25\n",
      "짝!\n",
      "27\n",
      "28\n",
      "짝!\n",
      "짝!\n",
      "짝!\n",
      "짝!\n",
      "짝!\n",
      "짝!\n",
      "짝!\n",
      "짝!\n",
      "짝!\n",
      "짝!\n",
      "짝!\n",
      "40\n",
      "41\n",
      "42\n",
      "짝!\n",
      "44\n",
      "45\n",
      "짝!\n",
      "47\n",
      "48\n",
      "짝!\n",
      "50\n",
      "51\n",
      "52\n",
      "짝!\n",
      "54\n",
      "55\n",
      "짝!\n",
      "57\n",
      "58\n",
      "짝!\n",
      "짝!\n",
      "짝!\n",
      "짝!\n",
      "짝!\n",
      "짝!\n",
      "짝!\n",
      "짝!\n",
      "짝!\n",
      "짝!\n",
      "짝!\n",
      "70\n",
      "71\n",
      "72\n",
      "짝!\n",
      "74\n",
      "75\n",
      "짝!\n",
      "77\n",
      "78\n",
      "짝!\n",
      "80\n",
      "81\n",
      "82\n",
      "짝!\n",
      "84\n",
      "85\n",
      "짝!\n",
      "87\n",
      "88\n",
      "짝!\n",
      "짝!\n",
      "짝!\n",
      "짝!\n",
      "짝!\n",
      "짝!\n",
      "짝!\n",
      "짝!\n",
      "짝!\n",
      "짝!\n",
      "짝!\n",
      "100\n"
     ]
    }
   ],
   "source": [
    "num = 1\n",
    "while (True) :\n",
    "    str_num = str(num)\n",
    "    if '3' in str_num or '6' in str_num or '9' in str_num :\n",
    "        print(u'짝!')\n",
    "    else :\n",
    "        print(str_num)\n",
    "    num += 1 \n",
    "    if (num > 100) :\n",
    "        break\n"
   ]
  },
  {
   "cell_type": "code",
   "execution_count": 2,
   "metadata": {
    "collapsed": false
   },
   "outputs": [
    {
     "name": "stdout",
     "output_type": "stream",
     "text": [
      "[76, 80, 83]\n"
     ]
    }
   ],
   "source": [
    "scores = [['이성주', 80, 90, 70], ['김성주', 70,80,90], ['박성주', 80,70,90]]\n",
    "\n",
    "avgs = []\n",
    "for x in range(1,4) :\n",
    "    points = [elm[x] for elm in scores]\n",
    "    avg = sum(points) / len(points)\n",
    "    avgs.append(avg)\n",
    "    \n",
    "print avgs\n"
   ]
  },
  {
   "cell_type": "code",
   "execution_count": 3,
   "metadata": {
    "collapsed": false
   },
   "outputs": [
    {
     "name": "stdout",
     "output_type": "stream",
     "text": [
      "Hello World\n"
     ]
    },
    {
     "data": {
      "text/plain": [
       "True"
      ]
     },
     "execution_count": 3,
     "metadata": {},
     "output_type": "execute_result"
    }
   ],
   "source": [
    "def sayHello():\n",
    "    print(\"Hello World\")\n",
    "    return True\n",
    "\n",
    "sayHello()"
   ]
  },
  {
   "cell_type": "code",
   "execution_count": 10,
   "metadata": {
    "collapsed": false
   },
   "outputs": [
    {
     "name": "stdout",
     "output_type": "stream",
     "text": [
      "good night\n"
     ]
    }
   ],
   "source": [
    "greeting_msg = {\n",
    "    \"kr\" : [\"좋은 아침입니다.\", \"좋은 오후입니다.\", \"편안한 밤 되세요.\"],\n",
    "    \"en\" : [\"good morning\", \"good afternoon\", \"good night\"]\n",
    "}\n",
    "\n",
    "def greeting(hour, lang='kr', extra_msg=None) :\n",
    "    if (hour < 12) :\n",
    "        print greeting_msg[lang][0]\n",
    "    elif (hour < 18) :\n",
    "        print greeting_msg[lang][1]\n",
    "    else :\n",
    "        print greeting_msg[lang][2]\n",
    "\n",
    "greeting(18,\"en\")\n",
    "\n",
    "        "
   ]
  },
  {
   "cell_type": "code",
   "execution_count": 15,
   "metadata": {
    "collapsed": false
   },
   "outputs": [
    {
     "name": "stdout",
     "output_type": "stream",
     "text": [
      "파썬\n",
      "[1, 3, 5]\n"
     ]
    }
   ],
   "source": [
    "def its_odd(ipt) :\n",
    "    return ipt[::2]\n",
    "\n",
    "result = its_odd(u'파이썬')\n",
    "print(result)\n",
    "\n",
    "result = its_odd([1,2,3,4,5])\n",
    "print(result)\n"
   ]
  },
  {
   "cell_type": "code",
   "execution_count": 19,
   "metadata": {
    "collapsed": false
   },
   "outputs": [
    {
     "name": "stdout",
     "output_type": "stream",
     "text": [
      "hi\tguys\n"
     ]
    }
   ],
   "source": [
    "print('hi', 'guys', sep='\\t')"
   ]
  },
  {
   "cell_type": "code",
   "execution_count": 20,
   "metadata": {
    "collapsed": false
   },
   "outputs": [
    {
     "data": {
      "text/plain": [
       "'choja vs stewie'"
      ]
     },
     "execution_count": 20,
     "metadata": {},
     "output_type": "execute_result"
    }
   ],
   "source": [
    "'{0} vs {1}'.format('choja', 'stewie')"
   ]
  },
  {
   "cell_type": "code",
   "execution_count": 21,
   "metadata": {
    "collapsed": false
   },
   "outputs": [
    {
     "name": "stdout",
     "output_type": "stream",
     "text": [
      "안녕하세요.\n",
      "파이썬입니다.\n"
     ]
    }
   ],
   "source": [
    "f = open('hello_world.txt')\n",
    "content = f.read()\n",
    "print(content)"
   ]
  }
 ],
 "metadata": {
  "kernelspec": {
   "display_name": "Python 2",
   "language": "python",
   "name": "python2"
  },
  "language_info": {
   "codemirror_mode": {
    "name": "ipython",
    "version": 2
   },
   "file_extension": ".py",
   "mimetype": "text/x-python",
   "name": "python",
   "nbconvert_exporter": "python",
   "pygments_lexer": "ipython2",
   "version": "2.7.10"
  }
 },
 "nbformat": 4,
 "nbformat_minor": 0
}
